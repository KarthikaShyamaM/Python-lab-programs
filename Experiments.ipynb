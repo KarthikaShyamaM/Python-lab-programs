{
 "cells": [
  {
   "cell_type": "markdown",
   "id": "09dffbed",
   "metadata": {},
   "source": [
    "# Exp no-1\n",
    "## Develop a python program to read n digit integer number,and seperate the integer number and display each digit."
   ]
  },
  {
   "cell_type": "code",
   "execution_count": 11,
   "id": "9bc0a62b",
   "metadata": {},
   "outputs": [
    {
     "name": "stdout",
     "output_type": "stream",
     "text": [
      "Enter the number of digits:2\n",
      "Enter a 2-digit integer:1\n",
      "Please enter a 2-digit integer;\n"
     ]
    }
   ],
   "source": [
    "n=int(input(\"Enter the number of digits:\"))\n",
    "if n>0:\n",
    "   number=int(input(f\"Enter a {n}-digit integer:\"))\n",
    "   if number>=10**(n-1) and number<10**n:\n",
    "      for i in range(n):\n",
    "            digit=number//(10**(n-1))\n",
    "            print(digit)\n",
    "            number%=10**(n-1)\n",
    "            n-=1\n",
    "   else:\n",
    "       print(f\"Please enter a {n}-digit integer;\")\n",
    "else:\n",
    "    print(\"Please enter a valid number of digits(greater than 0).\")"
   ]
  },
  {
   "cell_type": "markdown",
   "id": "162166db",
   "metadata": {},
   "source": [
    "# Exp no-2\n",
    "## Develop a python program to accept 4 numbers and display them in sorted order using a minimum number of if else statements."
   ]
  },
  {
   "cell_type": "code",
   "execution_count": 12,
   "id": "f2d25bd2",
   "metadata": {},
   "outputs": [
    {
     "name": "stdout",
     "output_type": "stream",
     "text": [
      "Enter the first number:1\n",
      "Enter the second number:2\n",
      "Enter the third number:3\n",
      "Enter the forth number:4\n",
      "The sorted numbers are: 4 3 2 1\n"
     ]
    }
   ],
   "source": [
    "a=int(input(\"Enter the first number:\"))\n",
    "b=int(input(\"Enter the second number:\"))\n",
    "c=int(input(\"Enter the third number:\"))\n",
    "d=int(input(\"Enter the forth number:\"))\n",
    "if a<b:a,b=b,a\n",
    "if c<d:c,d=d,c\n",
    "if a<c:a,c=c,a\n",
    "if b<d:b,d=d,b\n",
    "if b<c:b,c=c,b\n",
    "print(\"The sorted numbers are:\",a,b,c,d)"
   ]
  },
  {
   "cell_type": "code",
   "execution_count": null,
   "id": "6fd35aa0",
   "metadata": {},
   "outputs": [],
   "source": []
  }
 ],
 "metadata": {
  "kernelspec": {
   "display_name": "Python 3 (ipykernel)",
   "language": "python",
   "name": "python3"
  },
  "language_info": {
   "codemirror_mode": {
    "name": "ipython",
    "version": 3
   },
   "file_extension": ".py",
   "mimetype": "text/x-python",
   "name": "python",
   "nbconvert_exporter": "python",
   "pygments_lexer": "ipython3",
   "version": "3.10.9"
  }
 },
 "nbformat": 4,
 "nbformat_minor": 5
}
