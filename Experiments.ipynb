{
 "cells": [
  {
   "cell_type": "markdown",
   "id": "09dffbed",
   "metadata": {},
   "source": [
    "# Exp no-1\n",
    "## Develop a python program to read n digit integer number,and seperate the integer number and display each digit."
   ]
  },
  {
   "cell_type": "code",
   "execution_count": 11,
   "id": "9bc0a62b",
   "metadata": {},
   "outputs": [
    {
     "name": "stdout",
     "output_type": "stream",
     "text": [
      "Enter the number of digits:2\n",
      "Enter a 2-digit integer:1\n",
      "Please enter a 2-digit integer;\n"
     ]
    }
   ],
   "source": [
    "n=int(input(\"Enter the number of digits:\"))\n",
    "if n>0:\n",
    "   number=int(input(f\"Enter a {n}-digit integer:\"))\n",
    "   if number>=10**(n-1) and number<10**n:\n",
    "      for i in range(n):\n",
    "            digit=number//(10**(n-1))\n",
    "            print(digit)\n",
    "            number%=10**(n-1)\n",
    "            n-=1\n",
    "   else:\n",
    "       print(f\"Please enter a {n}-digit integer;\")\n",
    "else:\n",
    "    print(\"Please enter a valid number of digits(greater than 0).\")"
   ]
  },
  {
   "cell_type": "markdown",
   "id": "162166db",
   "metadata": {},
   "source": [
    "# Exp no-2\n",
    "## Develop a python program to accept 4 numbers and display them in sorted order using a minimum number of if else statements."
   ]
  },
  {
   "cell_type": "code",
   "execution_count": 12,
   "id": "f2d25bd2",
   "metadata": {},
   "outputs": [
    {
     "name": "stdout",
     "output_type": "stream",
     "text": [
      "Enter the first number:1\n",
      "Enter the second number:2\n",
      "Enter the third number:3\n",
      "Enter the forth number:4\n",
      "The sorted numbers are: 4 3 2 1\n"
     ]
    }
   ],
   "source": [
    "a=int(input(\"Enter the first number:\"))\n",
    "b=int(input(\"Enter the second number:\"))\n",
    "c=int(input(\"Enter the third number:\"))\n",
    "d=int(input(\"Enter the forth number:\"))\n",
    "if a<b:a,b=b,a\n",
    "if c<d:c,d=d,c\n",
    "if a<c:a,c=c,a\n",
    "if b<d:b,d=d,b\n",
    "if b<c:b,c=c,b\n",
    "print(\"The sorted numbers are:\",a,b,c,d)"
   ]
  },
  {
   "cell_type": "markdown",
   "id": "3d676338",
   "metadata": {},
   "source": [
    "## Exp-4\n",
    "### Develop a program for checking if a given n digit number is palindrome or not."
   ]
  },
  {
   "cell_type": "code",
   "execution_count": 2,
   "id": "dd1384b3",
   "metadata": {},
   "outputs": [
    {
     "name": "stdout",
     "output_type": "stream",
     "text": [
      "Enter an n-digit number:121\n",
      "Palindrome\n"
     ]
    }
   ],
   "source": [
    "number=int(input(\"Enter an n-digit number:\"))\n",
    "original_number=number\n",
    "reversed_number=0\n",
    "                 \n",
    "while number>0:\n",
    "    digit=number%10\n",
    "    reversed_number=reversed_number*10+digit\n",
    "    number//=10\n",
    "if original_number==reversed_number:\n",
    "   print(\"Palindrome\")\n",
    "else:\n",
    "    print(\"Not a Palindrome\")"
   ]
  },
  {
   "cell_type": "markdown",
   "id": "e64073fe",
   "metadata": {},
   "source": [
    "# Exp-5\n",
    "## Develop a python script to display a multiplication table for given integer n\n"
   ]
  },
  {
   "cell_type": "code",
   "execution_count": 4,
   "id": "c0fec6b1",
   "metadata": {},
   "outputs": [
    {
     "name": "stdout",
     "output_type": "stream",
     "text": [
      "enter an integer for the multiplication table:5\n",
      "Multiplication Table for 5:\n",
      "5x1=5\n",
      "5x2=10\n",
      "5x3=15\n",
      "5x4=20\n",
      "5x5=25\n",
      "5x6=30\n",
      "5x7=35\n",
      "5x8=40\n",
      "5x9=45\n",
      "5x10=50\n"
     ]
    }
   ],
   "source": [
    "n=int(input(\"enter an integer for the multiplication table:\"))\n",
    "print(f\"Multiplication Table for {n}:\")\n",
    "for i in range(1,11):\n",
    "    result=n*i\n",
    "    print(f\"{n}x{i}={result}\")"
   ]
  },
  {
   "cell_type": "markdown",
   "id": "28c015e8",
   "metadata": {},
   "source": [
    "## Experiment No-3"
   ]
  },
  {
   "cell_type": "markdown",
   "id": "4c0d87e3",
   "metadata": {},
   "source": [
    "## Develop python scripts to Calculate the Mean,Median,mode,Variance and standard deviation of n integer numbers\n"
   ]
  },
  {
   "cell_type": "code",
   "execution_count": 7,
   "id": "464146d0",
   "metadata": {},
   "outputs": [
    {
     "name": "stdout",
     "output_type": "stream",
     "text": [
      "Enter the number of elements:4\n",
      "Enter number 1:3.4\n",
      "Enter number 2:4.5\n",
      "Enter number 3:5.5\n",
      "Enter number 4:5.6\n",
      "mean:4.75\n",
      "median:5.0\n",
      "mode:No mode\n",
      "Sample variance:1.0566666666666664\n",
      "Population variance:0.7924999999999999\n",
      "Sample standard deviation:1.0279429296739515\n",
      "Population standard deviation:0.8902246907382427\n"
     ]
    }
   ],
   "source": [
    "n=int(input(\"Enter the number of elements:\"))\n",
    "numbers=[int(input(f\"Enter number {i+1}:\"))for i in range(n)]\n",
    "\n",
    "mean=sum(numbers)/n\n",
    "\n",
    "numbers.sort()\n",
    "if n%2==0:\n",
    "    median=(numbers[n//2-1]+numbers[n//2])/2\n",
    "else:\n",
    "    median=numbers[n//2]\n",
    "frequency={num:numbers.count(num)for num in numbers}\n",
    "max_count=max(frequency.values())\n",
    "mode=[k for k,v in frequency.items() if v==max_count]\n",
    "\n",
    "if len(mode)==n:\n",
    "    mode=\"No mode\"\n",
    "    \n",
    "mean_difference_squared_sum=sum((x-mean)**2 for x in numbers)\n",
    "variance_sample=mean_difference_squared_sum/(n-1) if n>1 else 0\n",
    "\n",
    "variance_population=mean_difference_squared_sum/n\n",
    "\n",
    "std_deviation_sample=variance_sample**0.5\n",
    "std_deviation_population=variance_population**0.5\n",
    "\n",
    "print(f\"mean:{mean}\")\n",
    "print(f\"median:{median}\")\n",
    "print(f\"mode:{mode}\")\n",
    "print(f\"Sample variance:{variance_sample}\")\n",
    "print(f\"Population variance:{variance_population}\")\n",
    "print(f\"Sample standard deviation:{std_deviation_sample}\")\n",
    "print(f\"Population standard deviation:{std_deviation_population}\")\n"
   ]
  },
  {
   "cell_type": "markdown",
   "id": "20ecf52a",
   "metadata": {},
   "source": [
    "## Exp6\n",
    "### Develop a python script to rotate right about a given position in that list and display them."
   ]
  },
  {
   "cell_type": "code",
   "execution_count": 1,
   "id": "480a41cc",
   "metadata": {},
   "outputs": [
    {
     "name": "stdout",
     "output_type": "stream",
     "text": [
      "Enter the integer number:234\n",
      "the reverse number is:432\n"
     ]
    }
   ],
   "source": [
    "number=int(input(\"Enter the integer number:\"))\n",
    "\n",
    "revs_number=0\n",
    "while(number>0):\n",
    "    remainder=number%10\n",
    "    revs_number=(revs_number*10)+remainder\n",
    "    number=number//10\n",
    "print(\"the reverse number is:{}\".format(revs_number))"
   ]
  },
  {
   "cell_type": "markdown",
   "id": "5da6285d",
   "metadata": {},
   "source": [
    "# Exp7\n",
    "## Develop Write a python script to interchange the digits of a given integer number"
   ]
  },
  {
   "cell_type": "code",
   "execution_count": 3,
   "id": "04672839",
   "metadata": {},
   "outputs": [
    {
     "name": "stdout",
     "output_type": "stream",
     "text": [
      "Enter the user input:56789\n",
      "enter the 1st position which u want to swap:1\n",
      "enter the 2nd position which u want to swap:4\n",
      "Original number: 56789\n",
      "Interchanged number: 86759\n"
     ]
    }
   ],
   "source": [
    "def interchange_digits(number,pos1,pos2):\n",
    "    \n",
    "    number_str=str(number)\n",
    "    number_list=list(number_str)\n",
    "    number_list[pos1-1],number_list[pos2-1]=number_list[pos2-1],number_list[pos1-1]\n",
    "    interchanged_number=int(''.join(number_list))\n",
    "    return interchanged_number\n",
    "number=int(input(\"Enter the user input:\"))\n",
    "pos1=int(input(\"enter the 1st position which u want to swap:\"))\n",
    "pos2=int(input(\"enter the 2nd position which u want to swap:\"))\n",
    "\n",
    "interchanged_number=interchange_digits(number,pos1,pos2)\n",
    "print(\"Original number:\",number)\n",
    "print(\"Interchanged number:\",interchanged_number)"
   ]
  },
  {
   "cell_type": "markdown",
   "id": "fbff9917",
   "metadata": {},
   "source": [
    "# EXP-8\n",
    "## Develop a python program to capitalize a given list of strings."
   ]
  },
  {
   "cell_type": "code",
   "execution_count": 3,
   "id": "5e0c3473",
   "metadata": {},
   "outputs": [
    {
     "name": "stdout",
     "output_type": "stream",
     "text": [
      "['Hello', 'Good', 'How', 'Simple']\n"
     ]
    }
   ],
   "source": [
    "def capitalize_strings(string_list):\n",
    "    return[s.capitalize() for s in string_list]\n",
    "input_strings=['hello','good','how','simple']\n",
    "capitalize_strings=capitalize_strings(input_strings)\n",
    "print(capitalize_strings)"
   ]
  },
  {
   "cell_type": "markdown",
   "id": "75a76e0e",
   "metadata": {},
   "source": [
    "# EXP-9\n",
    "## Using a dictionary develop a python ,program to determine and print the number of duplicate words in a sentence"
   ]
  },
  {
   "cell_type": "code",
   "execution_count": 7,
   "id": "45ac2280",
   "metadata": {},
   "outputs": [
    {
     "name": "stdout",
     "output_type": "stream",
     "text": [
      "Enter a sentence:big black bug bit a big black dog on his big black nose\n",
      "Duplicate words and their counts:\n",
      "big:3\n",
      "black:3\n"
     ]
    }
   ],
   "source": [
    "def count_duplicate_words(sentence):\n",
    "    words=sentence.split()\n",
    "    word_count={}\n",
    "    for word in words:\n",
    "        word=word.lower()\n",
    "        if word in word_count:\n",
    "            word_count[word]+=1\n",
    "        else:\n",
    "            word_count[word]=1\n",
    "    duplicates={word:count for word,count in word_count.items() if count>1}\n",
    "    \n",
    "    if duplicates:\n",
    "        print(\"Duplicate words and their counts:\")\n",
    "        for word,count in duplicates.items():\n",
    "            print(f\"{word}:{count}\")\n",
    "    else:\n",
    "        print(\"No duplicate words found.\")\n",
    "sentence=input(\"Enter a sentence:\")\n",
    "count_duplicate_words(sentence)"
   ]
  },
  {
   "cell_type": "markdown",
   "id": "2aa3d59b",
   "metadata": {},
   "source": [
    "# EXP-10:Develop python program to read Numpy array and print row(sum,mean,std) and column(sum,mean,std)"
   ]
  },
  {
   "cell_type": "code",
   "execution_count": 2,
   "id": "6e4b8bc6",
   "metadata": {},
   "outputs": [
    {
     "name": "stdout",
     "output_type": "stream",
     "text": [
      "Numpy Array\n",
      "[[1 2 3]\n",
      " [4 5 6]]\n",
      "__________________________\n",
      "Row Sum\n",
      "[ 6 15]\n",
      "Column Sum\n",
      "[5 7 9]\n",
      "__________________________\n",
      "Row Mean\n",
      "[2. 5.]\n",
      "Column Mean\n",
      "[2.5 3.5 4.5]\n",
      "__________________________\n",
      "Row STD\n",
      "[0.81649658 0.81649658]\n",
      "Column STD\n",
      "[1.5 1.5 1.5]\n"
     ]
    }
   ],
   "source": [
    "from numpy import asarray\n",
    "\n",
    "data=[[1,2,3],[4,5,6]]\n",
    "\n",
    "data=asarray(data)\n",
    "\n",
    "print(\"Numpy Array\")\n",
    "print(data)\n",
    "print(\"__________________________\")\n",
    "\n",
    "totalr=data.sum(axis=1)\n",
    "totalc=data.sum(axis=0)\n",
    "\n",
    "print(\"Row Sum\")\n",
    "print(totalr)\n",
    "print(\"Column Sum\")\n",
    "print(totalc)\n",
    "print(\"__________________________\")\n",
    "meanr=data.mean(axis=1)\n",
    "meanc=data.mean(axis=0)\n",
    "print(\"Row Mean\")\n",
    "print(meanr)\n",
    "print(\"Column Mean\")\n",
    "print(meanc)\n",
    "print(\"__________________________\")\n",
    "stdr=data.std(axis=1)\n",
    "stdc=data.std(axis=0)\n",
    "print(\"Row STD\")\n",
    "print(stdr)\n",
    "print(\"Column STD\")\n",
    "print(stdc)"
   ]
  },
  {
   "cell_type": "markdown",
   "id": "8e5ae967",
   "metadata": {},
   "source": [
    "# EXP 11:Develop a python program to read and print in the console CSV file."
   ]
  },
  {
   "cell_type": "code",
   "execution_count": 4,
   "id": "ac93ef8c",
   "metadata": {},
   "outputs": [
    {
     "name": "stdout",
     "output_type": "stream",
     "text": [
      "Column names are name,department,birthday_month\n",
      "\tJohn Smith works in the Accounting department,and was born in november.\n",
      "\tErica Meyers works in the IT department,and was born in March.\n",
      "\tRocky works in the HR department,and was born in April.\n",
      "processed 4 lines\n"
     ]
    }
   ],
   "source": [
    "import csv\n",
    "\n",
    "file=open('employee_birthday.csv',mode='r')\n",
    "csv_reader=csv.reader(file,delimiter=',')\n",
    "line_count=0\n",
    "\n",
    "for row in csv_reader:\n",
    "    if line_count==0:\n",
    "        print(f'Column names are {\",\".join(row)}')\n",
    "        line_count +=1\n",
    "    else:\n",
    "        print(f'\\t{row[0]} works in the {row[1]} department,and was born in {row[2]}.')\n",
    "        line_count +=1\n",
    "        \n",
    "print(f'processed {line_count} lines')"
   ]
  },
  {
   "cell_type": "code",
   "execution_count": null,
   "id": "1f8f992d",
   "metadata": {},
   "outputs": [],
   "source": []
  }
 ],
 "metadata": {
  "kernelspec": {
   "display_name": "Python 3 (ipykernel)",
   "language": "python",
   "name": "python3"
  },
  "language_info": {
   "codemirror_mode": {
    "name": "ipython",
    "version": 3
   },
   "file_extension": ".py",
   "mimetype": "text/x-python",
   "name": "python",
   "nbconvert_exporter": "python",
   "pygments_lexer": "ipython3",
   "version": "3.10.9"
  }
 },
 "nbformat": 4,
 "nbformat_minor": 5
}
